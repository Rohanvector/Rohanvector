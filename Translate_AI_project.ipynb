{
  "cells": [
    {
      "cell_type": "markdown",
      "metadata": {
        "id": "view-in-github",
        "colab_type": "text"
      },
      "source": [
        "<a href=\"https://colab.research.google.com/github/Rohanvector/Rohanvector/blob/main/Translate_AI_project.ipynb\" target=\"_parent\"><img src=\"https://colab.research.google.com/assets/colab-badge.svg\" alt=\"Open In Colab\"/></a>"
      ]
    },
    {
      "cell_type": "markdown",
      "source": [
        "Translate AI English to any Language"
      ],
      "metadata": {
        "id": "nmD6dSEjJ7u4"
      }
    },
    {
      "cell_type": "markdown",
      "source": [
        "We use googletrans library"
      ],
      "metadata": {
        "id": "OOPGqP9uKUal"
      }
    },
    {
      "cell_type": "code",
      "execution_count": 1,
      "metadata": {
        "colab": {
          "base_uri": "https://localhost:8080/"
        },
        "id": "NRNur8Gp_imr",
        "outputId": "4cf7a2e8-e451-4be7-fb80-933ee4b513b5"
      },
      "outputs": [
        {
          "output_type": "stream",
          "name": "stdout",
          "text": [
            "Collecting googletrans\n",
            "  Downloading googletrans-3.0.0.tar.gz (17 kB)\n",
            "  Preparing metadata (setup.py) ... \u001b[?25l\u001b[?25hdone\n",
            "Collecting httpx==0.13.3 (from googletrans)\n",
            "  Downloading httpx-0.13.3-py3-none-any.whl (55 kB)\n",
            "\u001b[2K     \u001b[90m━━━━━━━━━━━━━━━━━━━━━━━━━━━━━━━━━━━━━━━━\u001b[0m \u001b[32m55.1/55.1 kB\u001b[0m \u001b[31m1.6 MB/s\u001b[0m eta \u001b[36m0:00:00\u001b[0m\n",
            "\u001b[?25hRequirement already satisfied: certifi in /usr/local/lib/python3.10/dist-packages (from httpx==0.13.3->googletrans) (2023.7.22)\n",
            "Collecting hstspreload (from httpx==0.13.3->googletrans)\n",
            "  Downloading hstspreload-2023.1.1-py3-none-any.whl (1.5 MB)\n",
            "\u001b[2K     \u001b[90m━━━━━━━━━━━━━━━━━━━━━━━━━━━━━━━━━━━━━━━━\u001b[0m \u001b[32m1.5/1.5 MB\u001b[0m \u001b[31m21.1 MB/s\u001b[0m eta \u001b[36m0:00:00\u001b[0m\n",
            "\u001b[?25hRequirement already satisfied: sniffio in /usr/local/lib/python3.10/dist-packages (from httpx==0.13.3->googletrans) (1.3.0)\n",
            "Collecting chardet==3.* (from httpx==0.13.3->googletrans)\n",
            "  Downloading chardet-3.0.4-py2.py3-none-any.whl (133 kB)\n",
            "\u001b[2K     \u001b[90m━━━━━━━━━━━━━━━━━━━━━━━━━━━━━━━━━━━━━━\u001b[0m \u001b[32m133.4/133.4 kB\u001b[0m \u001b[31m14.5 MB/s\u001b[0m eta \u001b[36m0:00:00\u001b[0m\n",
            "\u001b[?25hCollecting idna==2.* (from httpx==0.13.3->googletrans)\n",
            "  Downloading idna-2.10-py2.py3-none-any.whl (58 kB)\n",
            "\u001b[2K     \u001b[90m━━━━━━━━━━━━━━━━━━━━━━━━━━━━━━━━━━━━━━━━\u001b[0m \u001b[32m58.8/58.8 kB\u001b[0m \u001b[31m6.0 MB/s\u001b[0m eta \u001b[36m0:00:00\u001b[0m\n",
            "\u001b[?25hCollecting rfc3986<2,>=1.3 (from httpx==0.13.3->googletrans)\n",
            "  Downloading rfc3986-1.5.0-py2.py3-none-any.whl (31 kB)\n",
            "Collecting httpcore==0.9.* (from httpx==0.13.3->googletrans)\n",
            "  Downloading httpcore-0.9.1-py3-none-any.whl (42 kB)\n",
            "\u001b[2K     \u001b[90m━━━━━━━━━━━━━━━━━━━━━━━━━━━━━━━━━━━━━━━━\u001b[0m \u001b[32m42.6/42.6 kB\u001b[0m \u001b[31m4.3 MB/s\u001b[0m eta \u001b[36m0:00:00\u001b[0m\n",
            "\u001b[?25hCollecting h11<0.10,>=0.8 (from httpcore==0.9.*->httpx==0.13.3->googletrans)\n",
            "  Downloading h11-0.9.0-py2.py3-none-any.whl (53 kB)\n",
            "\u001b[2K     \u001b[90m━━━━━━━━━━━━━━━━━━━━━━━━━━━━━━━━━━━━━━━━\u001b[0m \u001b[32m53.6/53.6 kB\u001b[0m \u001b[31m5.3 MB/s\u001b[0m eta \u001b[36m0:00:00\u001b[0m\n",
            "\u001b[?25hCollecting h2==3.* (from httpcore==0.9.*->httpx==0.13.3->googletrans)\n",
            "  Downloading h2-3.2.0-py2.py3-none-any.whl (65 kB)\n",
            "\u001b[2K     \u001b[90m━━━━━━━━━━━━━━━━━━━━━━━━━━━━━━━━━━━━━━━━\u001b[0m \u001b[32m65.0/65.0 kB\u001b[0m \u001b[31m6.4 MB/s\u001b[0m eta \u001b[36m0:00:00\u001b[0m\n",
            "\u001b[?25hCollecting hyperframe<6,>=5.2.0 (from h2==3.*->httpcore==0.9.*->httpx==0.13.3->googletrans)\n",
            "  Downloading hyperframe-5.2.0-py2.py3-none-any.whl (12 kB)\n",
            "Collecting hpack<4,>=3.0 (from h2==3.*->httpcore==0.9.*->httpx==0.13.3->googletrans)\n",
            "  Downloading hpack-3.0.0-py2.py3-none-any.whl (38 kB)\n",
            "Building wheels for collected packages: googletrans\n",
            "  Building wheel for googletrans (setup.py) ... \u001b[?25l\u001b[?25hdone\n",
            "  Created wheel for googletrans: filename=googletrans-3.0.0-py3-none-any.whl size=15721 sha256=57d9c639f9b0244aac8e9ac59f1c91d2d96d755707e9566b36201f39660f1060\n",
            "  Stored in directory: /root/.cache/pip/wheels/b3/81/ea/8b030407f8ebfc2f857814e086bb22ca2d4fea1a7be63652ab\n",
            "Successfully built googletrans\n",
            "Installing collected packages: rfc3986, hyperframe, hpack, h11, chardet, idna, hstspreload, h2, httpcore, httpx, googletrans\n",
            "  Attempting uninstall: chardet\n",
            "    Found existing installation: chardet 4.0.0\n",
            "    Uninstalling chardet-4.0.0:\n",
            "      Successfully uninstalled chardet-4.0.0\n",
            "  Attempting uninstall: idna\n",
            "    Found existing installation: idna 3.4\n",
            "    Uninstalling idna-3.4:\n",
            "      Successfully uninstalled idna-3.4\n",
            "Successfully installed chardet-3.0.4 googletrans-3.0.0 h11-0.9.0 h2-3.2.0 hpack-3.0.0 hstspreload-2023.1.1 httpcore-0.9.1 httpx-0.13.3 hyperframe-5.2.0 idna-2.10 rfc3986-1.5.0\n"
          ]
        }
      ],
      "source": [
        "pip install googletrans"
      ]
    },
    {
      "cell_type": "markdown",
      "source": [
        "Here we install new version"
      ],
      "metadata": {
        "id": "lrcplduxKt3w"
      }
    },
    {
      "cell_type": "code",
      "execution_count": 2,
      "metadata": {
        "colab": {
          "base_uri": "https://localhost:8080/"
        },
        "id": "jnJ3DgLA_kc1",
        "outputId": "8e55c837-5fd8-4c30-af70-ad946b1d4f12"
      },
      "outputs": [
        {
          "output_type": "stream",
          "name": "stdout",
          "text": [
            "Collecting googletrans==3.1.0a0\n",
            "  Downloading googletrans-3.1.0a0.tar.gz (19 kB)\n",
            "  Preparing metadata (setup.py) ... \u001b[?25l\u001b[?25hdone\n",
            "Requirement already satisfied: httpx==0.13.3 in /usr/local/lib/python3.10/dist-packages (from googletrans==3.1.0a0) (0.13.3)\n",
            "Requirement already satisfied: certifi in /usr/local/lib/python3.10/dist-packages (from httpx==0.13.3->googletrans==3.1.0a0) (2023.7.22)\n",
            "Requirement already satisfied: hstspreload in /usr/local/lib/python3.10/dist-packages (from httpx==0.13.3->googletrans==3.1.0a0) (2023.1.1)\n",
            "Requirement already satisfied: sniffio in /usr/local/lib/python3.10/dist-packages (from httpx==0.13.3->googletrans==3.1.0a0) (1.3.0)\n",
            "Requirement already satisfied: chardet==3.* in /usr/local/lib/python3.10/dist-packages (from httpx==0.13.3->googletrans==3.1.0a0) (3.0.4)\n",
            "Requirement already satisfied: idna==2.* in /usr/local/lib/python3.10/dist-packages (from httpx==0.13.3->googletrans==3.1.0a0) (2.10)\n",
            "Requirement already satisfied: rfc3986<2,>=1.3 in /usr/local/lib/python3.10/dist-packages (from httpx==0.13.3->googletrans==3.1.0a0) (1.5.0)\n",
            "Requirement already satisfied: httpcore==0.9.* in /usr/local/lib/python3.10/dist-packages (from httpx==0.13.3->googletrans==3.1.0a0) (0.9.1)\n",
            "Requirement already satisfied: h11<0.10,>=0.8 in /usr/local/lib/python3.10/dist-packages (from httpcore==0.9.*->httpx==0.13.3->googletrans==3.1.0a0) (0.9.0)\n",
            "Requirement already satisfied: h2==3.* in /usr/local/lib/python3.10/dist-packages (from httpcore==0.9.*->httpx==0.13.3->googletrans==3.1.0a0) (3.2.0)\n",
            "Requirement already satisfied: hyperframe<6,>=5.2.0 in /usr/local/lib/python3.10/dist-packages (from h2==3.*->httpcore==0.9.*->httpx==0.13.3->googletrans==3.1.0a0) (5.2.0)\n",
            "Requirement already satisfied: hpack<4,>=3.0 in /usr/local/lib/python3.10/dist-packages (from h2==3.*->httpcore==0.9.*->httpx==0.13.3->googletrans==3.1.0a0) (3.0.0)\n",
            "Building wheels for collected packages: googletrans\n",
            "  Building wheel for googletrans (setup.py) ... \u001b[?25l\u001b[?25hdone\n",
            "  Created wheel for googletrans: filename=googletrans-3.1.0a0-py3-none-any.whl size=16352 sha256=b38f624ce901141f069a65311ceed568e5316a03ccc6106d169013688f757535\n",
            "  Stored in directory: /root/.cache/pip/wheels/50/5d/3c/8477d0af4ca2b8b1308812c09f1930863caeebc762fe265a95\n",
            "Successfully built googletrans\n",
            "Installing collected packages: googletrans\n",
            "  Attempting uninstall: googletrans\n",
            "    Found existing installation: googletrans 3.0.0\n",
            "    Uninstalling googletrans-3.0.0:\n",
            "      Successfully uninstalled googletrans-3.0.0\n",
            "Successfully installed googletrans-3.1.0a0\n"
          ]
        }
      ],
      "source": [
        "pip install googletrans==3.1.0a0"
      ]
    },
    {
      "cell_type": "markdown",
      "source": [
        "Installing PPRINT for display proper dictionary values"
      ],
      "metadata": {
        "id": "hQ1I89_TK4AM"
      }
    },
    {
      "cell_type": "code",
      "source": [
        "pip install pprint"
      ],
      "metadata": {
        "colab": {
          "base_uri": "https://localhost:8080/"
        },
        "id": "PMcalO-_kx3-",
        "outputId": "610c96dc-66d4-431f-e15d-96412b11a2ea"
      },
      "execution_count": 3,
      "outputs": [
        {
          "output_type": "stream",
          "name": "stdout",
          "text": [
            "\u001b[31mERROR: Could not find a version that satisfies the requirement pprint (from versions: none)\u001b[0m\u001b[31m\n",
            "\u001b[0m\u001b[31mERROR: No matching distribution found for pprint\u001b[0m\u001b[31m\n",
            "\u001b[0m"
          ]
        }
      ]
    },
    {
      "cell_type": "markdown",
      "source": [
        "Code :"
      ],
      "metadata": {
        "id": "qDdqwTIqLld7"
      }
    },
    {
      "cell_type": "code",
      "execution_count": null,
      "metadata": {
        "id": "ybC6XP9V-k6o",
        "colab": {
          "base_uri": "https://localhost:8080/"
        },
        "outputId": "575e5180-135d-4e87-a80b-28535cab69a7"
      },
      "outputs": [
        {
          "output_type": "stream",
          "name": "stdout",
          "text": [
            "Enter What You Want To Translate. (English to any language)  :     Hi I am rohan nice to meet you \n",
            "----------Which language you want to translate-----------------------\n",
            "\n",
            "{'af': 'afrikaans',\n",
            " 'am': 'amharic',\n",
            " 'ar': 'arabic',\n",
            " 'az': 'azerbaijani',\n",
            " 'be': 'belarusian',\n",
            " 'bg': 'bulgarian',\n",
            " 'bn': 'bengali',\n",
            " 'bs': 'bosnian',\n",
            " 'ca': 'catalan',\n",
            " 'ceb': 'cebuano',\n",
            " 'co': 'corsican',\n",
            " 'cs': 'czech',\n",
            " 'cy': 'welsh',\n",
            " 'da': 'danish',\n",
            " 'de': 'german',\n",
            " 'el': 'greek',\n",
            " 'en': 'english',\n",
            " 'eo': 'esperanto',\n",
            " 'es': 'spanish',\n",
            " 'et': 'estonian',\n",
            " 'eu': 'basque',\n",
            " 'fa': 'persian',\n",
            " 'fi': 'finnish',\n",
            " 'fr': 'french',\n",
            " 'fy': 'frisian',\n",
            " 'ga': 'irish',\n",
            " 'gd': 'scots gaelic',\n",
            " 'gl': 'galician',\n",
            " 'gu': 'gujarati',\n",
            " 'ha': 'hausa',\n",
            " 'haw': 'hawaiian',\n",
            " 'he': 'hebrew',\n",
            " 'hi': 'hindi',\n",
            " 'hmn': 'hmong',\n",
            " 'hr': 'croatian',\n",
            " 'ht': 'haitian creole',\n",
            " 'hu': 'hungarian',\n",
            " 'hy': 'armenian',\n",
            " 'id': 'indonesian',\n",
            " 'ig': 'igbo',\n",
            " 'is': 'icelandic',\n",
            " 'it': 'italian',\n",
            " 'iw': 'hebrew',\n",
            " 'ja': 'japanese',\n",
            " 'jw': 'javanese',\n",
            " 'ka': 'georgian',\n",
            " 'kk': 'kazakh',\n",
            " 'km': 'khmer',\n",
            " 'kn': 'kannada',\n",
            " 'ko': 'korean',\n",
            " 'ku': 'kurdish (kurmanji)',\n",
            " 'ky': 'kyrgyz',\n",
            " 'la': 'latin',\n",
            " 'lb': 'luxembourgish',\n",
            " 'lo': 'lao',\n",
            " 'lt': 'lithuanian',\n",
            " 'lv': 'latvian',\n",
            " 'mg': 'malagasy',\n",
            " 'mi': 'maori',\n",
            " 'mk': 'macedonian',\n",
            " 'ml': 'malayalam',\n",
            " 'mn': 'mongolian',\n",
            " 'mr': 'marathi',\n",
            " 'ms': 'malay',\n",
            " 'mt': 'maltese',\n",
            " 'my': 'myanmar (burmese)',\n",
            " 'ne': 'nepali',\n",
            " 'nl': 'dutch',\n",
            " 'no': 'norwegian',\n",
            " 'ny': 'chichewa',\n",
            " 'or': 'odia',\n",
            " 'pa': 'punjabi',\n",
            " 'pl': 'polish',\n",
            " 'ps': 'pashto',\n",
            " 'pt': 'portuguese',\n",
            " 'ro': 'romanian',\n",
            " 'ru': 'russian',\n",
            " 'sd': 'sindhi',\n",
            " 'si': 'sinhala',\n",
            " 'sk': 'slovak',\n",
            " 'sl': 'slovenian',\n",
            " 'sm': 'samoan',\n",
            " 'sn': 'shona',\n",
            " 'so': 'somali',\n",
            " 'sq': 'albanian',\n",
            " 'sr': 'serbian',\n",
            " 'st': 'sesotho',\n",
            " 'su': 'sundanese',\n",
            " 'sv': 'swedish',\n",
            " 'sw': 'swahili',\n",
            " 'ta': 'tamil',\n",
            " 'te': 'telugu',\n",
            " 'tg': 'tajik',\n",
            " 'th': 'thai',\n",
            " 'tl': 'filipino',\n",
            " 'tr': 'turkish',\n",
            " 'ug': 'uyghur',\n",
            " 'uk': 'ukrainian',\n",
            " 'ur': 'urdu',\n",
            " 'uz': 'uzbek',\n",
            " 'vi': 'vietnamese',\n",
            " 'xh': 'xhosa',\n",
            " 'yi': 'yiddish',\n",
            " 'yo': 'yoruba',\n",
            " 'zh-cn': 'chinese (simplified)',\n",
            " 'zh-tw': 'chinese (traditional)',\n",
            " 'zu': 'zulu'}\n",
            "----------Type language in short form--------------------------------\n",
            "which language you want to translate(you should type in short form of the language)   :   ta\n",
            "----------print that translated language-----------------------------\n",
            "\t\n",
            "\n",
            "\t ஹாய் ரோஹன் உங்களை சந்தித்ததில் மகிழ்ச்சி\n"
          ]
        }
      ],
      "source": [
        "import googletrans\n",
        "import pprint\n",
        "translator = googletrans.Translator()\n",
        "input_lang = 'en'\n",
        "text=input(\"Enter What You Want To Translate. (English to any language)  :     \")\n",
        "print(\"----------Which language you want to translate-----------------------\")\n",
        "print()\n",
        "pprint.pprint(googletrans.LANGUAGES)\n",
        "print(\"----------Type language in short form--------------------------------\")\n",
        "output_lang=input(\"which language you want to translate(you should type in short form of the language)   :   \")\n",
        "print(\"----------print that translated language-----------------------------\")\n",
        "translated = translator.translate(text, dest=output_lang)\n",
        "print(\"\\t\\n\\n\\t\",translated.text)"
      ]
    }
  ],
  "metadata": {
    "colab": {
      "provenance": [],
      "authorship_tag": "ABX9TyPh/qdgpHQ2oFM8P1YAJCnC",
      "include_colab_link": true
    },
    "kernelspec": {
      "display_name": "Python 3",
      "name": "python3"
    },
    "language_info": {
      "name": "python"
    }
  },
  "nbformat": 4,
  "nbformat_minor": 0
}